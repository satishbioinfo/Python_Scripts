{
 "cells": [
  {
   "cell_type": "code",
   "execution_count": 1,
   "metadata": {
    "collapsed": true
   },
   "outputs": [],
   "source": [
    "import sys\n",
    "import os\n",
    "sys.path.insert(0, '/Users/satish/PycharmProjects/Scripts')\n",
    "import qsub"
   ]
  },
  {
   "cell_type": "code",
   "execution_count": 2,
   "metadata": {
    "collapsed": true
   },
   "outputs": [],
   "source": [
    "qsubdir='/Users/satish/Desktop/python/Scripts '"
   ]
  },
  {
   "cell_type": "code",
   "execution_count": 6,
   "metadata": {
    "collapsed": true
   },
   "outputs": [],
   "source": [
    "BWAPath='/scratch2/satishk/tool/bwa-0.7.17'\n",
    "\n",
    "hg19_path = '/Users/satish/Desktop/python/Scripts/hg19.fa'\n",
    "\n"
   ]
  },
  {
   "cell_type": "code",
   "execution_count": 7,
   "metadata": {
    "collapsed": true
   },
   "outputs": [],
   "source": [
    "def indexing(reffile):\n",
    "    qsubINF = '#!/bin/bash\\n'\n",
    "    qsubINF += '#-N INDEXING_REFGENOME\\n'\n",
    "    qsubINF += BWAPath + 'bwa index '+ reffile +'\\n'\n",
    "    qsub.makeQsub(qsubdir + 'BWA_index_ref_G.sh',qsubINF)\n",
    "    #qsub.runQsub(qsubdir + 'BWA_index_ref_G.sh', memory =16)\n",
    "    #print (qsubINF)\n",
    "    #output.write(qsubINF)"
   ]
  },
  {
   "cell_type": "code",
   "execution_count": 8,
   "metadata": {
    "collapsed": true
   },
   "outputs": [],
   "source": [
    "indexing(hg19_path)"
   ]
  },
  {
   "cell_type": "code",
   "execution_count": null,
   "metadata": {
    "collapsed": true
   },
   "outputs": [],
   "source": []
  }
 ],
 "metadata": {
  "kernelspec": {
   "display_name": "Python 2",
   "language": "python",
   "name": "python2"
  },
  "language_info": {
   "codemirror_mode": {
    "name": "ipython",
    "version": 2
   },
   "file_extension": ".py",
   "mimetype": "text/x-python",
   "name": "python",
   "nbconvert_exporter": "python",
   "pygments_lexer": "ipython2",
   "version": "2.7.14"
  }
 },
 "nbformat": 4,
 "nbformat_minor": 2
}
