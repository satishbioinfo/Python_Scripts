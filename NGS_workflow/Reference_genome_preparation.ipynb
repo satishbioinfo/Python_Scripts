{
 "cells": [
  {
   "cell_type": "markdown",
   "metadata": {},
   "source": [
    "This script wgets all the .fa.gz files from the ucsc FTP site.unzips the files and then concats them! and them runs BWA to index them.\n",
    "\n",
    "Make sure you change\n",
    "gFTP, BWAPath, index_prefix and other locations accordingly\n",
    "\n",
    "ftp://hgdownload.cse.ucsc.edu/goldenPath/hg38/chromosomes/chr1.fa.gz"
   ]
  },
  {
   "cell_type": "code",
   "execution_count": 1,
   "metadata": {},
   "outputs": [],
   "source": [
    "import sys, os\n",
    "sys.path.append('/home/satishk/python_library')\n",
    "import qsub"
   ]
  },
  {
   "cell_type": "code",
   "execution_count": 2,
   "metadata": {},
   "outputs": [],
   "source": [
    "PQSUBS = '/scratch2/satishk/reference/QSUB/'"
   ]
  },
  {
   "cell_type": "code",
   "execution_count": 3,
   "metadata": {},
   "outputs": [],
   "source": [
    "index_prefix='hg38'"
   ]
  },
  {
   "cell_type": "code",
   "execution_count": 4,
   "metadata": {},
   "outputs": [],
   "source": [
    "mainlocation = '/scratch2/satishk/reference/'"
   ]
  },
  {
   "cell_type": "code",
   "execution_count": 5,
   "metadata": {},
   "outputs": [],
   "source": [
    "download_location = '/scratch2/satishk/reference/'+index_prefix+'/'"
   ]
  },
  {
   "cell_type": "code",
   "execution_count": 6,
   "metadata": {},
   "outputs": [],
   "source": [
    "gFTP = 'ftp://hgdownload.cse.ucsc.edu/goldenPath/hg38/chromosomes/'"
   ]
  },
  {
   "cell_type": "code",
   "execution_count": 7,
   "metadata": {},
   "outputs": [],
   "source": [
    "chrms = ['chr1', 'chr2', 'chr3','chr4', 'chr5', 'chr6', 'chr7', 'chr8', 'chr9', 'chr10', 'chr11', 'chr12', 'chr13', 'chr14', 'chr15', 'chr16', 'chr17', 'chr18', 'chr19', 'chr20', 'chr21', 'chr22', 'chrX', 'chrY']"
   ]
  },
  {
   "cell_type": "code",
   "execution_count": 8,
   "metadata": {},
   "outputs": [],
   "source": [
    "BWAPath='/scratch2/satishk/tool/bwa-0.7.17/'"
   ]
  },
  {
   "cell_type": "code",
   "execution_count": 12,
   "metadata": {},
   "outputs": [
    {
     "name": "stdout",
     "output_type": "stream",
     "text": [
      "chr1\n",
      "chr2\n",
      "chr3\n",
      "chr4\n",
      "chr5\n",
      "chr6\n",
      "chr7\n",
      "chr8\n",
      "chr9\n",
      "chr10\n",
      "chr11\n",
      "chr12\n",
      "chr13\n",
      "chr14\n",
      "chr15\n",
      "chr16\n",
      "chr17\n",
      "chr18\n",
      "chr19\n",
      "chr20\n",
      "chr21\n",
      "chr22\n",
      "chrX\n",
      "chrY\n",
      "qsub -l select=1:ncpus=32:mem=600gb -q bigmem -o /scratch2/satishk/reference/QSUB/refG_download-index.stdout -e /scratch2/satishk/reference/QSUB/refG_download-index.stderr -N SRG.refG_download-index -S /bin/sh /scratch2/satishk/reference/QSUB/refG_download-index.sh\n"
     ]
    }
   ],
   "source": [
    "qsubINF = '#!/bin/bash\\n'\n",
    "qsubINF += '#-N wget_ref_fasta\\n'\n",
    "qsubINF += 'mkdir '+ mainlocation + index_prefix+'\\n'\n",
    "\n",
    "for chrm in chrms:\n",
    "    print(chrm)\n",
    "    qsubINF +='wget '+ gFTP + chrm + '.fa.gz -P '+download_location+'\\n'\n",
    "\n",
    "qsubINF += 'cd '+ download_location+'\\n'\n",
    "qsubINF += 'gunzip *.gz\\n'\n",
    "qsubINF += 'cat *.fa >'+ index_prefix +'.fa\\n'\n",
    "#qsubINF += 'cat *.fa >'+ index_prefix +'.fa\\n'\n",
    "qsubINF += BWAPath + 'bwa index '+ index_prefix +'.fa -p '+ index_prefix +'\\n'\n",
    "qsub.makeQsub(PQSUBS + 'refG_download-index.sh',qsubINF)\n",
    "qsub.runQsub(PQSUBS + 'refG_download-index.sh')"
   ]
  },
  {
   "cell_type": "code",
   "execution_count": null,
   "metadata": {},
   "outputs": [],
   "source": []
  }
 ],
 "metadata": {
  "kernelspec": {
   "display_name": "Python 3 (Anaconda 5.1.0)",
   "language": "python",
   "name": "anaconda3-5.1.0"
  },
  "language_info": {
   "codemirror_mode": {
    "name": "ipython",
    "version": 3
   },
   "file_extension": ".py",
   "mimetype": "text/x-python",
   "name": "python",
   "nbconvert_exporter": "python",
   "pygments_lexer": "ipython3",
   "version": "3.6.10"
  }
 },
 "nbformat": 4,
 "nbformat_minor": 2
}
